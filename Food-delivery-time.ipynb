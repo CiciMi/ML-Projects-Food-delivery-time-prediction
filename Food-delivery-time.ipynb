{
 "cells": [
  {
   "cell_type": "code",
   "execution_count": null,
   "metadata": {},
   "outputs": [],
   "source": []
  },
  {
   "cell_type": "code",
   "execution_count": 1,
   "metadata": {},
   "outputs": [
    {
     "name": "stdout",
     "output_type": "stream",
     "text": [
      "     ID Delivery_person_ID  Delivery_person_Age  Delivery_person_Ratings  \\\n",
      "0  4607     INDORES13DEL02                   37                      4.9   \n",
      "1  B379     BANGRES18DEL02                   34                      4.5   \n",
      "2  5D6D     BANGRES19DEL01                   23                      4.4   \n",
      "3  7A6A    COIMBRES13DEL02                   38                      4.7   \n",
      "4  70A2     CHENRES12DEL01                   32                      4.6   \n",
      "\n",
      "   Restaurant_latitude  Restaurant_longitude  Delivery_location_latitude  \\\n",
      "0            22.745049             75.892471                   22.765049   \n",
      "1            12.913041             77.683237                   13.043041   \n",
      "2            12.914264             77.678400                   12.924264   \n",
      "3            11.003669             76.976494                   11.053669   \n",
      "4            12.972793             80.249982                   13.012793   \n",
      "\n",
      "   Delivery_location_longitude Type_of_order Type_of_vehicle  Time_taken(min)  \n",
      "0                    75.912471        Snack      motorcycle                24  \n",
      "1                    77.813237        Snack         scooter                33  \n",
      "2                    77.688400       Drinks      motorcycle                26  \n",
      "3                    77.026494       Buffet      motorcycle                21  \n",
      "4                    80.289982        Snack         scooter                30  \n"
     ]
    }
   ],
   "source": [
    "import pandas as pd\n",
    "import numpy as np\n",
    "import plotly.express as px\n",
    "\n",
    "data = pd.read_csv(\"deliverytime.txt\")\n",
    "print(data.head())"
   ]
  },
  {
   "cell_type": "code",
   "execution_count": null,
   "metadata": {},
   "outputs": [],
   "source": []
  },
  {
   "cell_type": "code",
   "execution_count": null,
   "metadata": {},
   "outputs": [],
   "source": []
  }
 ],
 "metadata": {
  "kernelspec": {
   "display_name": "Python 3",
   "language": "python",
   "name": "python3"
  },
  "language_info": {
   "codemirror_mode": {
    "name": "ipython",
    "version": 3
   },
   "file_extension": ".py",
   "mimetype": "text/x-python",
   "name": "python",
   "nbconvert_exporter": "python",
   "pygments_lexer": "ipython3",
   "version": "3.11.2"
  }
 },
 "nbformat": 4,
 "nbformat_minor": 2
}
